{
 "cells": [
  {
   "cell_type": "code",
   "execution_count": 1,
   "id": "6b6fd647",
   "metadata": {
    "execution": {
     "iopub.execute_input": "2025-10-03T13:08:00.603592Z",
     "iopub.status.busy": "2025-10-03T13:08:00.602592Z",
     "iopub.status.idle": "2025-10-03T13:08:00.995392Z",
     "shell.execute_reply": "2025-10-03T13:08:00.995392Z"
    },
    "papermill": {
     "duration": 0.397804,
     "end_time": "2025-10-03T13:08:00.996397",
     "exception": false,
     "start_time": "2025-10-03T13:08:00.598593",
     "status": "completed"
    },
    "tags": []
   },
   "outputs": [
    {
     "name": "stdout",
     "output_type": "stream",
     "text": [
      "Shape: (1197, 15)\n"
     ]
    },
    {
     "data": {
      "text/html": [
       "<div>\n",
       "<style scoped>\n",
       "    .dataframe tbody tr th:only-of-type {\n",
       "        vertical-align: middle;\n",
       "    }\n",
       "\n",
       "    .dataframe tbody tr th {\n",
       "        vertical-align: top;\n",
       "    }\n",
       "\n",
       "    .dataframe thead th {\n",
       "        text-align: right;\n",
       "    }\n",
       "</style>\n",
       "<table border=\"1\" class=\"dataframe\">\n",
       "  <thead>\n",
       "    <tr style=\"text-align: right;\">\n",
       "      <th></th>\n",
       "      <th>date</th>\n",
       "      <th>quarter</th>\n",
       "      <th>department</th>\n",
       "      <th>day</th>\n",
       "      <th>team</th>\n",
       "      <th>targeted_productivity</th>\n",
       "      <th>smv</th>\n",
       "      <th>wip</th>\n",
       "      <th>over_time</th>\n",
       "      <th>incentive</th>\n",
       "      <th>idle_time</th>\n",
       "      <th>idle_men</th>\n",
       "      <th>no_of_style_change</th>\n",
       "      <th>no_of_workers</th>\n",
       "      <th>actual_productivity</th>\n",
       "    </tr>\n",
       "  </thead>\n",
       "  <tbody>\n",
       "    <tr>\n",
       "      <th>0</th>\n",
       "      <td>1/1/2015</td>\n",
       "      <td>Quarter1</td>\n",
       "      <td>sweing</td>\n",
       "      <td>Thursday</td>\n",
       "      <td>8</td>\n",
       "      <td>0.80</td>\n",
       "      <td>26.16</td>\n",
       "      <td>1108.0</td>\n",
       "      <td>7080</td>\n",
       "      <td>98</td>\n",
       "      <td>0.0</td>\n",
       "      <td>0</td>\n",
       "      <td>0</td>\n",
       "      <td>59.0</td>\n",
       "      <td>0.940725</td>\n",
       "    </tr>\n",
       "    <tr>\n",
       "      <th>1</th>\n",
       "      <td>1/1/2015</td>\n",
       "      <td>Quarter1</td>\n",
       "      <td>finishing</td>\n",
       "      <td>Thursday</td>\n",
       "      <td>1</td>\n",
       "      <td>0.75</td>\n",
       "      <td>3.94</td>\n",
       "      <td>NaN</td>\n",
       "      <td>960</td>\n",
       "      <td>0</td>\n",
       "      <td>0.0</td>\n",
       "      <td>0</td>\n",
       "      <td>0</td>\n",
       "      <td>8.0</td>\n",
       "      <td>0.886500</td>\n",
       "    </tr>\n",
       "    <tr>\n",
       "      <th>2</th>\n",
       "      <td>1/1/2015</td>\n",
       "      <td>Quarter1</td>\n",
       "      <td>sweing</td>\n",
       "      <td>Thursday</td>\n",
       "      <td>11</td>\n",
       "      <td>0.80</td>\n",
       "      <td>11.41</td>\n",
       "      <td>968.0</td>\n",
       "      <td>3660</td>\n",
       "      <td>50</td>\n",
       "      <td>0.0</td>\n",
       "      <td>0</td>\n",
       "      <td>0</td>\n",
       "      <td>30.5</td>\n",
       "      <td>0.800570</td>\n",
       "    </tr>\n",
       "    <tr>\n",
       "      <th>3</th>\n",
       "      <td>1/1/2015</td>\n",
       "      <td>Quarter1</td>\n",
       "      <td>sweing</td>\n",
       "      <td>Thursday</td>\n",
       "      <td>12</td>\n",
       "      <td>0.80</td>\n",
       "      <td>11.41</td>\n",
       "      <td>968.0</td>\n",
       "      <td>3660</td>\n",
       "      <td>50</td>\n",
       "      <td>0.0</td>\n",
       "      <td>0</td>\n",
       "      <td>0</td>\n",
       "      <td>30.5</td>\n",
       "      <td>0.800570</td>\n",
       "    </tr>\n",
       "    <tr>\n",
       "      <th>4</th>\n",
       "      <td>1/1/2015</td>\n",
       "      <td>Quarter1</td>\n",
       "      <td>sweing</td>\n",
       "      <td>Thursday</td>\n",
       "      <td>6</td>\n",
       "      <td>0.80</td>\n",
       "      <td>25.90</td>\n",
       "      <td>1170.0</td>\n",
       "      <td>1920</td>\n",
       "      <td>50</td>\n",
       "      <td>0.0</td>\n",
       "      <td>0</td>\n",
       "      <td>0</td>\n",
       "      <td>56.0</td>\n",
       "      <td>0.800382</td>\n",
       "    </tr>\n",
       "  </tbody>\n",
       "</table>\n",
       "</div>"
      ],
      "text/plain": [
       "       date   quarter  department       day  team  targeted_productivity  \\\n",
       "0  1/1/2015  Quarter1      sweing  Thursday     8                   0.80   \n",
       "1  1/1/2015  Quarter1  finishing   Thursday     1                   0.75   \n",
       "2  1/1/2015  Quarter1      sweing  Thursday    11                   0.80   \n",
       "3  1/1/2015  Quarter1      sweing  Thursday    12                   0.80   \n",
       "4  1/1/2015  Quarter1      sweing  Thursday     6                   0.80   \n",
       "\n",
       "     smv     wip  over_time  incentive  idle_time  idle_men  \\\n",
       "0  26.16  1108.0       7080         98        0.0         0   \n",
       "1   3.94     NaN        960          0        0.0         0   \n",
       "2  11.41   968.0       3660         50        0.0         0   \n",
       "3  11.41   968.0       3660         50        0.0         0   \n",
       "4  25.90  1170.0       1920         50        0.0         0   \n",
       "\n",
       "   no_of_style_change  no_of_workers  actual_productivity  \n",
       "0                   0           59.0             0.940725  \n",
       "1                   0            8.0             0.886500  \n",
       "2                   0           30.5             0.800570  \n",
       "3                   0           30.5             0.800570  \n",
       "4                   0           56.0             0.800382  "
      ]
     },
     "execution_count": 1,
     "metadata": {},
     "output_type": "execute_result"
    }
   ],
   "source": [
    "import pandas as pd\n",
    "from pathlib import Path\n",
    "\n",
    "\n",
    "\n",
    "csv_path = Path(r\"C:\\Users\\ahern\\Desktop\\Warehouse Project\\data\\garments_worker_productivity.csv\")\n",
    "\n",
    "df = pd.read_csv(csv_path)\n",
    "\n",
    "print(\"Shape:\", df.shape)\n",
    "df.head()"
   ]
  },
  {
   "cell_type": "code",
   "execution_count": 2,
   "id": "bcbf658d",
   "metadata": {
    "execution": {
     "iopub.execute_input": "2025-10-03T13:08:01.002566Z",
     "iopub.status.busy": "2025-10-03T13:08:01.002566Z",
     "iopub.status.idle": "2025-10-03T13:08:01.011125Z",
     "shell.execute_reply": "2025-10-03T13:08:01.011125Z"
    },
    "papermill": {
     "duration": 0.012733,
     "end_time": "2025-10-03T13:08:01.012130",
     "exception": false,
     "start_time": "2025-10-03T13:08:00.999397",
     "status": "completed"
    },
    "tags": []
   },
   "outputs": [],
   "source": [
    "\n",
    "df = df.copy()\n",
    "# Convert date column to datetime, coerce errors to NaT\n",
    "df[\"date\"] = pd.to_datetime(df[\"date\"], errors=\"coerce\")\n",
    "\n",
    "#  fixes typo 'sweing' to 'sewing' in department column from orginal dataset\n",
    "df[\"department\"] = (\n",
    "    df[\"department\"]\n",
    "    .astype(str).str.strip()\n",
    "    .str.replace(r\"^\\s*sweing\\s*$\", \"sewing\", regex=True)\n",
    ")\n",
    "\n",
    "# Ordered weekdays which helps plotting & Power BI sorting later\n",
    "dow = [\"Monday\",\"Tuesday\",\"Wednesday\",\"Thursday\",\"Friday\",\"Saturday\",\"Sunday\"]\n",
    "df[\"day\"] = pd.Categorical(df[\"day\"], categories=dow, ordered=True)\n",
    "\n"
   ]
  },
  {
   "cell_type": "code",
   "execution_count": 3,
   "id": "1d95070b",
   "metadata": {
    "execution": {
     "iopub.execute_input": "2025-10-03T13:08:01.017130Z",
     "iopub.status.busy": "2025-10-03T13:08:01.017130Z",
     "iopub.status.idle": "2025-10-03T13:08:01.021455Z",
     "shell.execute_reply": "2025-10-03T13:08:01.021455Z"
    },
    "papermill": {
     "duration": 0.008329,
     "end_time": "2025-10-03T13:08:01.022459",
     "exception": false,
     "start_time": "2025-10-03T13:08:01.014130",
     "status": "completed"
    },
    "tags": []
   },
   "outputs": [],
   "source": [
    "# Impute missing wip with median, i dont think we'll use WIP but I want to show we can fix missing values before outoput\n",
    "if \"wip\" in df.columns:\n",
    "    wip_median = df[\"wip\"].median(skipna=True)\n",
    "    df[\"wip\"] = df[\"wip\"].fillna(wip_median)\n"
   ]
  },
  {
   "cell_type": "code",
   "execution_count": 4,
   "id": "2666fbe0",
   "metadata": {
    "execution": {
     "iopub.execute_input": "2025-10-03T13:08:01.028141Z",
     "iopub.status.busy": "2025-10-03T13:08:01.028141Z",
     "iopub.status.idle": "2025-10-03T13:08:01.035645Z",
     "shell.execute_reply": "2025-10-03T13:08:01.035140Z"
    },
    "papermill": {
     "duration": 0.010916,
     "end_time": "2025-10-03T13:08:01.036650",
     "exception": false,
     "start_time": "2025-10-03T13:08:01.025734",
     "status": "completed"
    },
    "tags": []
   },
   "outputs": [],
   "source": [
    "# Clip ranges of productivity columns to sensible values,\n",
    "# e.g. productivity should be between 0 and 1 (0% to 100%)\n",
    "df[\"actual_productivity\"] = df[\"actual_productivity\"].clip(lower=0, upper=1)\n",
    "df[\"targeted_productivity\"] = df[\"targeted_productivity\"].clip(lower=0, upper=1)\n",
    "\n",
    "# Ensures numeric columns are numeric \n",
    "numeric_cols = [\n",
    "    \"team\",\"targeted_productivity\",\"smv\",\"wip\",\"over_time\",\"incentive\",\n",
    "    \"idle_time\",\"idle_men\",\"no_of_style_change\",\"no_of_workers\",\"actual_productivity\"\n",
    "]\n",
    "for c in numeric_cols:\n",
    "    if c in df.columns:\n",
    "        df[c] = pd.to_numeric(df[c], errors=\"coerce\")"
   ]
  },
  {
   "cell_type": "code",
   "execution_count": 5,
   "id": "b642f59e",
   "metadata": {
    "execution": {
     "iopub.execute_input": "2025-10-03T13:08:01.041651Z",
     "iopub.status.busy": "2025-10-03T13:08:01.040651Z",
     "iopub.status.idle": "2025-10-03T13:08:01.053052Z",
     "shell.execute_reply": "2025-10-03T13:08:01.053052Z"
    },
    "papermill": {
     "duration": 0.015405,
     "end_time": "2025-10-03T13:08:01.054057",
     "exception": false,
     "start_time": "2025-10-03T13:08:01.038652",
     "status": "completed"
    },
    "tags": []
   },
   "outputs": [
    {
     "name": "stdout",
     "output_type": "stream",
     "text": [
      "Saved C:\\Users\\ahern\\Desktop\\Warehouse Project\\exports\\garment_productivity_clean_latest.csv\n"
     ]
    }
   ],
   "source": [
    "out_clean = Path(r\"C:\\Users\\ahern\\Desktop\\Warehouse Project\\exports\\garment_productivity_clean_latest.csv\")\n",
    "out_clean.parent.mkdir(parents=True, exist_ok=True)\n",
    "df.to_csv(out_clean, index=False)\n",
    "print(\"Saved\", out_clean)"
   ]
  },
  {
   "cell_type": "code",
   "execution_count": 6,
   "id": "c96a7a4f",
   "metadata": {
    "execution": {
     "iopub.execute_input": "2025-10-03T13:08:01.059416Z",
     "iopub.status.busy": "2025-10-03T13:08:01.059416Z",
     "iopub.status.idle": "2025-10-03T13:08:01.079457Z",
     "shell.execute_reply": "2025-10-03T13:08:01.079457Z"
    },
    "papermill": {
     "duration": 0.024069,
     "end_time": "2025-10-03T13:08:01.080462",
     "exception": false,
     "start_time": "2025-10-03T13:08:01.056393",
     "status": "completed"
    },
    "tags": []
   },
   "outputs": [
    {
     "name": "stdout",
     "output_type": "stream",
     "text": [
      "Saved C:\\Users\\ahern\\Desktop\\Warehouse Project\\exports\\kpi_latest.csv\n"
     ]
    }
   ],
   "source": [
    "import numpy as np\n",
    "\n",
    "kpi = df.groupby(['date','department','team'], as_index=False).agg(\n",
    "    actual_productivity=('actual_productivity','mean'),\n",
    "    targeted_productivity=('targeted_productivity','mean'),\n",
    "    smv=('smv','mean'),\n",
    "    wip=('wip','mean'),\n",
    "    over_time=('over_time','sum'),\n",
    "    incentive=('incentive','mean'),\n",
    "    idle_time=('idle_time','mean'),\n",
    "    idle_men=('idle_men','mean'),\n",
    "    no_of_style_change=('no_of_style_change','mean'),\n",
    "    no_of_workers=('no_of_workers','mean'),\n",
    ")\n",
    "\n",
    "# Safe division avoids inf when target is 0 this is to ensure no errors in Power BI\n",
    "kpi['perf_ratio'] = np.where(\n",
    "    kpi['targeted_productivity'] > 0,\n",
    "    kpi['actual_productivity'] / kpi['targeted_productivity'],\n",
    "    np.nan\n",
    ")\n",
    "\n",
    "# Round for nicer BI display (4 decimal places = 0.01% precision)\n",
    "kpi['perf_ratio'] = kpi['perf_ratio'].round(4)\n",
    "\n",
    "# Save\n",
    "out_kpi = r\"C:\\Users\\ahern\\Desktop\\Warehouse Project\\exports\\kpi_latest.csv\"\n",
    "kpi.to_csv(out_kpi, index=False)\n",
    "print(\"Saved\", out_kpi,)"
   ]
  },
  {
   "cell_type": "code",
   "execution_count": 7,
   "id": "9154ef1b",
   "metadata": {
    "execution": {
     "iopub.execute_input": "2025-10-03T13:08:01.085462Z",
     "iopub.status.busy": "2025-10-03T13:08:01.085462Z",
     "iopub.status.idle": "2025-10-03T13:08:02.187313Z",
     "shell.execute_reply": "2025-10-03T13:08:02.187313Z"
    },
    "papermill": {
     "duration": 1.105859,
     "end_time": "2025-10-03T13:08:02.188320",
     "exception": false,
     "start_time": "2025-10-03T13:08:01.082461",
     "status": "completed"
    },
    "tags": []
   },
   "outputs": [
    {
     "name": "stdout",
     "output_type": "stream",
     "text": [
      "Prediction MAE (mean absolute error): 0.0726\n",
      "Saved C:\\Users\\ahern\\Desktop\\Warehouse Project\\exports\\predictions_latest.csv\n"
     ]
    }
   ],
   "source": [
    "# Random Forest Regression to predict actual productivity\n",
    "\n",
    "from sklearn.model_selection import train_test_split\n",
    "from sklearn.ensemble import RandomForestRegressor\n",
    "from sklearn.metrics import mean_absolute_error\n",
    "import numpy as np\n",
    "\n",
    "#  drop 'actual_productivity' for the predictors and convert categoricals\n",
    "X = pd.get_dummies(\n",
    "    df.drop(columns=['actual_productivity','date']),  # date dropped for simplicity\n",
    "    drop_first=True\n",
    ")\n",
    "y = df['actual_productivity']\n",
    "\n",
    "# Split and train\n",
    "X_train, X_test, y_train, y_test = train_test_split(\n",
    "    X, y, test_size=0.2, random_state=42\n",
    ")\n",
    "model = RandomForestRegressor(n_estimators=150, random_state=42, n_jobs=-1)\n",
    "model.fit(X_train, y_train)\n",
    "\n",
    "# Evaluate on the test set\n",
    "mae = mean_absolute_error(y_test, model.predict(X_test))\n",
    "print(\"Prediction MAE (mean absolute error):\", round(mae, 4))\n",
    "\n",
    "# Make predictions \n",
    "df_pred = df.copy()\n",
    "df_pred['predicted_productivity'] = model.predict(X)\n",
    "df_pred['model_mae'] = round(mae, 4)  # include MAE as a reference column w\n",
    "\n",
    "# Save predictions \n",
    "from pathlib import Path\n",
    "pred_out = Path(r\"C:\\Users\\ahern\\Desktop\\Warehouse Project\\exports\\predictions_latest.csv\")\n",
    "pred_out.parent.mkdir(parents=True, exist_ok=True)\n",
    "df_pred.to_csv(pred_out, index=False)\n",
    "print(\"Saved\", pred_out)"
   ]
  },
  {
   "cell_type": "code",
   "execution_count": 8,
   "id": "b603d948",
   "metadata": {
    "execution": {
     "iopub.execute_input": "2025-10-03T13:08:02.196327Z",
     "iopub.status.busy": "2025-10-03T13:08:02.195327Z",
     "iopub.status.idle": "2025-10-03T13:08:02.239325Z",
     "shell.execute_reply": "2025-10-03T13:08:02.239325Z"
    },
    "papermill": {
     "duration": 0.048156,
     "end_time": "2025-10-03T13:08:02.240483",
     "exception": false,
     "start_time": "2025-10-03T13:08:02.192327",
     "status": "completed"
    },
    "tags": []
   },
   "outputs": [
    {
     "name": "stdout",
     "output_type": "stream",
     "text": [
      "Combined and Saved  C:\\Users\\ahern\\Desktop\\Warehouse Project\\exports\\kpi_with_predictions_latest.csv\n"
     ]
    }
   ],
   "source": [
    "#Here is where we combine the kpi and predictions for easier use in Power BI later\n",
    "\n",
    "from pathlib import Path\n",
    "\n",
    "# Load the two latest CSVs if the dataframs are not already in memory, just in case\n",
    "kpi = pd.read_csv(r\"C:\\Users\\ahern\\Desktop\\Warehouse Project\\exports\\kpi_latest.csv\")\n",
    "pred = pd.read_csv(r\"C:\\Users\\ahern\\Desktop\\Warehouse Project\\exports\\predictions_latest.csv\")\n",
    "\n",
    "combined = pd.merge(\n",
    "    kpi,\n",
    "    pred[['date','department','team','predicted_productivity','model_mae']],\n",
    "    on=['date','department','team'],\n",
    "    how='left'\n",
    ")\n",
    "\n",
    "out_path = Path(r\"C:\\Users\\ahern\\Desktop\\Warehouse Project\\exports\\kpi_with_predictions_latest.csv\")\n",
    "combined.to_csv(out_path, index=False)\n",
    "print(\"Combined and Saved \", out_path)"
   ]
  },
  {
   "cell_type": "code",
   "execution_count": 9,
   "id": "6ca98758",
   "metadata": {
    "execution": {
     "iopub.execute_input": "2025-10-03T13:08:02.246573Z",
     "iopub.status.busy": "2025-10-03T13:08:02.245575Z",
     "iopub.status.idle": "2025-10-03T13:08:02.831327Z",
     "shell.execute_reply": "2025-10-03T13:08:02.830823Z"
    },
    "papermill": {
     "duration": 0.58976,
     "end_time": "2025-10-03T13:08:02.832334",
     "exception": false,
     "start_time": "2025-10-03T13:08:02.242574",
     "status": "completed"
    },
    "tags": []
   },
   "outputs": [
    {
     "name": "stdout",
     "output_type": "stream",
     "text": [
      "Feature importances saved C:\\Users\\ahern\\Desktop\\Warehouse Project\\exports\\feature_importance.csv\n"
     ]
    }
   ],
   "source": [
    "# Feature importance from the Random Forest model, this was an after thought\n",
    "import pandas as pd\n",
    "import matplotlib.pyplot as plt\n",
    "import seaborn as sns\n",
    "\n",
    "# Get feature importances from model\n",
    "importances = model.feature_importances_\n",
    "features = X.columns\n",
    "\n",
    "feat_imp = pd.DataFrame({\n",
    "    'Feature': features,\n",
    "    'Importance': importances\n",
    "}).sort_values(by='Importance', ascending=False)\n",
    "\n",
    "\n",
    "# Save \n",
    "feat_out = Path(r\"C:\\Users\\ahern\\Desktop\\Warehouse Project\\exports\\feature_importance.csv\")\n",
    "feat_imp.to_csv(feat_out, index=False)\n",
    "print(\"Feature importances saved\", feat_out)\n",
    "\n",
    "\n",
    "#Test text for \"output.ipynb\" 111222333\n",
    "\n"
   ]
  }
 ],
 "metadata": {
  "kernelspec": {
   "display_name": ".venv",
   "language": "python",
   "name": "python3"
  },
  "language_info": {
   "codemirror_mode": {
    "name": "ipython",
    "version": 3
   },
   "file_extension": ".py",
   "mimetype": "text/x-python",
   "name": "python",
   "nbconvert_exporter": "python",
   "pygments_lexer": "ipython3",
   "version": "3.11.9"
  },
  "papermill": {
   "default_parameters": {},
   "duration": 7.595624,
   "end_time": "2025-10-03T13:08:06.473914",
   "environment_variables": {},
   "exception": null,
   "input_path": "C:\\Users\\ahern\\Desktop\\Warehouse Project\\notebooks\\DataCleanKPI.ipynb",
   "output_path": "C:\\Users\\ahern\\Desktop\\Warehouse Project\\notebooks\\DataCleanKPI_output.ipynb",
   "parameters": {},
   "start_time": "2025-10-03T13:07:58.878290",
   "version": "2.6.0"
  }
 },
 "nbformat": 4,
 "nbformat_minor": 5
}